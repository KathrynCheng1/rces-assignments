{
 "cells": [
  {
   "cell_type": "markdown",
   "metadata": {},
   "source": [
    "# Assignment: Basic Python\n",
    "\n",
    "\n",
    "```{admonition} Learning Goals\n",
    ":class: tip\n",
    "\n",
    "This assignment will verify that you have the following skills:\n",
    "- Create lists and dictionaries\n",
    "- Iterate through lists, tuples, and dictionaries\n",
    "- Index sequences (e.g. lists and tuples)\n",
    "- Define functions\n",
    "- Use optional keyword arguments in functions\n",
    "```"
   ]
  },
  {
   "cell_type": "markdown",
   "metadata": {},
   "source": [
    "## Part I: Lists and Loops\n",
    "\n",
    "In this problem, we will explore the basic data structures and flow controls of Python by _manually creating data structures_.\n",
    "\n",
    "\n",
    "```{warning}\n",
    "Pluto is [not a planet any more](https://www.loc.gov/everyday-mysteries/item/why-is-pluto-no-longer-a-planet/).\n",
    "```"
   ]
  },
  {
   "cell_type": "markdown",
   "metadata": {},
   "source": [
    "### 1) Create a list with the names of every planet in the solar system (in order)"
   ]
  },
  {
   "cell_type": "code",
   "execution_count": 1,
   "metadata": {},
   "outputs": [],
   "source": [
    "planets = ['Mercury', 'Venus', 'Earth', 'Mars', 'Jupiter', 'Saturn', 'Uranus', 'Neptune']"
   ]
  },
  {
   "cell_type": "markdown",
   "metadata": {
    "tags": []
   },
   "source": [
    "### 2) Have Python tell you how many planets there are by examining your list"
   ]
  },
  {
   "cell_type": "code",
   "execution_count": 2,
   "metadata": {},
   "outputs": [
    {
     "data": {
      "text/plain": [
       "8"
      ]
     },
     "execution_count": 2,
     "metadata": {},
     "output_type": "execute_result"
    }
   ],
   "source": [
    "len(planets)"
   ]
  },
  {
   "cell_type": "markdown",
   "metadata": {},
   "source": [
    "### 3) Use slicing to display the first four planets (the rocky planets)"
   ]
  },
  {
   "cell_type": "code",
   "execution_count": 3,
   "metadata": {},
   "outputs": [
    {
     "name": "stdout",
     "output_type": "stream",
     "text": [
      "['Mercury', 'Venus', 'Earth', 'Mars']\n"
     ]
    }
   ],
   "source": [
    "print(planets[:4])"
   ]
  },
  {
   "cell_type": "markdown",
   "metadata": {},
   "source": [
    "### 4) Iterate through your planets and print the planet name only if it has an `s` at the end"
   ]
  },
  {
   "cell_type": "code",
   "execution_count": 4,
   "metadata": {},
   "outputs": [
    {
     "name": "stdout",
     "output_type": "stream",
     "text": [
      "Venus\n",
      "Mars\n",
      "Uranus\n"
     ]
    }
   ],
   "source": [
    "for planet in planets:\n",
    "    if planet.endswith('s'):\n",
    "        print(planet)"
   ]
  },
  {
   "cell_type": "markdown",
   "metadata": {},
   "source": [
    "## Part II: Dictionaries\n",
    "\n",
    "### 1) Now create a dictionary that maps each planet name to its mass\n",
    "\n",
    "You can use values from this [NASA fact sheet](https://nssdc.gsfc.nasa.gov/planetary/factsheet/).\n",
    "You can use whatever units you want, but be consistent."
   ]
  },
  {
   "cell_type": "code",
   "execution_count": 56,
   "metadata": {},
   "outputs": [
    {
     "data": {
      "text/plain": [
       "{'Mercury': 3.3e+23,\n",
       " 'Venus': 4.87e+24,\n",
       " 'Earth': 5.969999999999999e+24,\n",
       " 'Mars': 6.42e+23,\n",
       " 'Jupiter': 1898000000000000000000000000,\n",
       " 'Saturn': 568000000000000000000000000,\n",
       " 'Uranus': 8.68e+25,\n",
       " 'Neptune': 102000000000000000000000000}"
      ]
     },
     "execution_count": 56,
     "metadata": {},
     "output_type": "execute_result"
    }
   ],
   "source": [
    "planet_mass = {'Mercury': 0.330*(10**24),'Venus': 4.87*(10**24), 'Earth': 5.97*(10**24), 'Mars': 0.642*(10**24), 'Jupiter': 1898*(10**24), 'Saturn': 568*(10**24), 'Uranus': 86.8*(10**24),'Neptune': 102*(10**24)}\n",
    "\n",
    "planet_mass"
   ]
  },
  {
   "cell_type": "markdown",
   "metadata": {},
   "source": [
    "### 2) Use your dictionary to look up Earth's mass"
   ]
  },
  {
   "cell_type": "code",
   "execution_count": 57,
   "metadata": {},
   "outputs": [
    {
     "data": {
      "text/plain": [
       "5.969999999999999e+24"
      ]
     },
     "execution_count": 57,
     "metadata": {},
     "output_type": "execute_result"
    }
   ],
   "source": [
    "planet_mass[\"Earth\"]\n",
    "for"
   ]
  },
  {
   "cell_type": "code",
   "execution_count": 72,
   "metadata": {},
   "outputs": [
    {
     "data": {
      "text/plain": [
       "dict_values"
      ]
     },
     "execution_count": 72,
     "metadata": {},
     "output_type": "execute_result"
    }
   ],
   "source": [
    "type(planet_mass.values())"
   ]
  },
  {
   "cell_type": "markdown",
   "metadata": {
    "tags": []
   },
   "source": [
    "### 3) Loop through the data and create a list of planets whose mast is greater than 100 x 10^24 kg \n",
    "\n",
    "Display your result"
   ]
  },
  {
   "cell_type": "code",
   "execution_count": 74,
   "metadata": {},
   "outputs": [
    {
     "name": "stdout",
     "output_type": "stream",
     "text": [
      "Jupiter\n",
      "Saturn\n",
      "Neptune\n"
     ]
    }
   ],
   "source": [
    "#planet_mass = [planet1, planet2, planet3, planet4, planet5, planet6, planet7, planet8]\n",
    "\n",
    "big_mass = 100*(10**24)\n",
    "\n",
    "for planet in planet_mass:\n",
    "    if planet_mass[planet] > big_mass:\n",
    "        print(planet)"
   ]
  },
  {
   "cell_type": "markdown",
   "metadata": {},
   "source": [
    "### 4) Now add pluto to your dictionary"
   ]
  },
  {
   "cell_type": "code",
   "execution_count": 81,
   "metadata": {},
   "outputs": [
    {
     "data": {
      "text/plain": [
       "[{'planet': 'Mercury', 'mass': 3.3e+23},\n",
       " {'planet': 'Venus', 'mass': 4.87e+24},\n",
       " {'planet': 'Earth', 'mass': 5.969999999999999e+24},\n",
       " {'planet': 'Mars', 'mass': 6.42e+23},\n",
       " {'planet': 'Jupiter', 'mass': 1898000000000000000000000000},\n",
       " {'planet': 'Saturn', 'mass': 568000000000000000000000000},\n",
       " {'planet': 'Uranus', 'mass': 8.68e+25},\n",
       " {'planet': 'Neptune', 'mass': 102000000000000000000000000},\n",
       " {'planet': 'Pluto', 'mass': 1.3e+22},\n",
       " {'planet': 'Pluto', 'mass': 1.3e+22},\n",
       " {'planet': 'Pluto', 'mass': 1.3e+22},\n",
       " {'planet': 'Pluto', 'mass': 1.3e+22},\n",
       " {'planet': 'Pluto', 'mass': 1.3e+22},\n",
       " {'planet': 'Pluto', 'mass': 1.3e+22}]"
      ]
     },
     "execution_count": 81,
     "metadata": {},
     "output_type": "execute_result"
    }
   ],
   "source": [
    "planet_pluto = dict( planet = \"Pluto\", mass = 0.0130*(10**24))\n",
    "planet_mass.append(planet_pluto)\n",
    "planet_mass"
   ]
  },
  {
   "cell_type": "markdown",
   "metadata": {},
   "source": [
    "## Part III: Functions\n",
    "\n",
    "### 1. Write a function to convert temperature from kelvin to celsius and celsius to kelvin"
   ]
  },
  {
   "cell_type": "code",
   "execution_count": 31,
   "metadata": {},
   "outputs": [],
   "source": [
    "def temp_to_kelvin_or_celsius(temp, celcius = False):\n",
    "    if celcius:\n",
    "        new_temp =  temp + 273.15\n",
    "    else:\n",
    "        new_temp = temp - 273.15\n",
    "    return new_temp"
   ]
  },
  {
   "cell_type": "markdown",
   "metadata": {
    "tags": []
   },
   "source": [
    "### 2. Write a function to convert temperature to fahrenheit\n",
    "\n",
    "Include an optional keyword argument to specify whether the input is in  celcius or kelvin.\n",
    "Call your previously defined functions if necessary."
   ]
  },
  {
   "cell_type": "code",
   "execution_count": 86,
   "metadata": {},
   "outputs": [
    {
     "name": "stdout",
     "output_type": "stream",
     "text": [
      "-288.66999999999996\n"
     ]
    }
   ],
   "source": [
    "def temp_to_fahenheit(temp, celcius = False):\n",
    "    if celcius:\n",
    "        fahrenheit = temp * (9/5)+32\n",
    "    else:\n",
    "        fahrenheit = (temp_to_kelvin_or_celsius(temp, celcius = False)) * 9/5 + 32\n",
    "    return fahrenheit\n",
    "\n",
    "print(temp_to_fahenheit(95, celcius=False))"
   ]
  },
  {
   "cell_type": "markdown",
   "metadata": {},
   "source": [
    "### 3) Check that the outputs are sensible\n",
    "\n",
    "by trying a few examples"
   ]
  },
  {
   "cell_type": "code",
   "execution_count": 87,
   "metadata": {},
   "outputs": [
    {
     "name": "stdout",
     "output_type": "stream",
     "text": [
      "308.15\n",
      "35.0\n",
      "95.0\n",
      "26.33000000000004\n"
     ]
    }
   ],
   "source": [
    "#Part 3.1\n",
    "print(temp_to_kelvin_or_celsius(35, celcius=True)) # convert from celcius to k\n",
    "print(temp_to_kelvin_or_celsius(308.15, celcius=False)) # convert from k to c\n",
    "\n",
    "#Part 3.2\n",
    "print(temp_to_fahenheit(35, celcius=True)) # c to f\n",
    "print (temp_to_fahenheit (270)) # k to f"
   ]
  },
  {
   "cell_type": "markdown",
   "metadata": {},
   "source": [
    "### 4) Now write a function that converts _from_ farenheit\n",
    "\n",
    "and uses a keyword argument to specify whether you want the output in celcius or kelvin"
   ]
  },
  {
   "cell_type": "code",
   "execution_count": 90,
   "metadata": {},
   "outputs": [
    {
     "name": "stdout",
     "output_type": "stream",
     "text": [
      "86.0\n",
      "26.33000000000004\n"
     ]
    }
   ],
   "source": [
    "def temp_from_farenheit(temp, celcius = False):\n",
    "    if celcius:\n",
    "        new_temp = (temp - 32) * (5/9)\n",
    "    else:\n",
    "        new_temp = (temp - 32) * (5/9) + 273.15\n",
    "    return new_temp\n",
    "\n",
    "print(temp_to_fahenheit(30, celcius = True)) # c to f \n",
    "print(temp_to_fahenheit(270, celcius = False)) # k to f"
   ]
  },
  {
   "cell_type": "markdown",
   "metadata": {},
   "source": [
    "### 5) Write a function that takes two arguments (feet and inches) and returns height in meters\n",
    "\n",
    "Verify it gives sensible answers"
   ]
  },
  {
   "cell_type": "code",
   "execution_count": 91,
   "metadata": {},
   "outputs": [
    {
     "name": "stdout",
     "output_type": "stream",
     "text": [
      "Height in meters: 1.65 m\n"
     ]
    }
   ],
   "source": [
    "def meter (feet, inches):\n",
    "    feet_to_meters = feet/3.281 \n",
    "    inches_to_meters = inches / 39.37\n",
    "    total_meters = feet_to_meters + inches_to_meters\n",
    "    return total_meters\n",
    "\n",
    "height_m = meter(5, 5)  # 5 feet 7 inches\n",
    "print(f\"Height in meters: {height_m:.2f} m\")"
   ]
  },
  {
   "cell_type": "markdown",
   "metadata": {},
   "source": [
    "### 6. Write a function takes one argument (height in meters) and returns two arguments (feet and inches)\n",
    "\n",
    "(Consult the [tutorial on numbers](https://docs.python.org/3/tutorial/introduction.html#numbers) if you are stuck on how to implement this.)"
   ]
  },
  {
   "cell_type": "code",
   "execution_count": 93,
   "metadata": {},
   "outputs": [
    {
     "name": "stdout",
     "output_type": "stream",
     "text": [
      "Height in feet and inches: 5 feet 5 inches\n"
     ]
    }
   ],
   "source": [
    "def feet_inch (meters):\n",
    "    total_feet = meters * 3.281 \n",
    "    feet = round(total_feet)  \n",
    "    inches = (total_feet - feet) * 12  \n",
    "    return feet, round(inches)  \n",
    "\n",
    "height_ft, height_in = feet_inch(1.65)  # 5 feet 5 inches\n",
    "print(f\"Height in feet and inches: {height_ft} feet {height_in} inches\")"
   ]
  },
  {
   "cell_type": "markdown",
   "metadata": {
    "tags": []
   },
   "source": [
    "### 7) Verify that the \"round trip\" conversion from and back to meters is consistent \n",
    "\n",
    "Check for 3 different values of height in meters"
   ]
  },
  {
   "cell_type": "code",
   "execution_count": 98,
   "metadata": {},
   "outputs": [
    {
     "name": "stdout",
     "output_type": "stream",
     "text": [
      "Height in meters: 1.65 m\n",
      "Height in feet and inches: 5 feet 5 inches\n",
      "Height in meters: 1.22 m\n",
      "Height in feet and inches: 4 feet 0 inches\n",
      "Height in meters: 1.52 m\n",
      "Height in feet and inches: 5 feet 0 inches\n"
     ]
    }
   ],
   "source": [
    "height_m = meter(5, 5)  \n",
    "print(f\"Height in meters: {height_m:.2f} m\")\n",
    "\n",
    "height_ft, height_in = feet_inch(height_m)  # 5 feet 5 inches\n",
    "print(f\"Height in feet and inches: {height_ft} feet {height_in} inches\")\n",
    "\n",
    "## New run\n",
    "height_m = meter(4, 0) \n",
    "print(f\"Height in meters: {height_m:.2f} m\")\n",
    "\n",
    "height_ft, height_in = feet_inch(height_m)  # 4 feet 0 inches\n",
    "print(f\"Height in feet and inches: {height_ft} feet {height_in} inches\")\n",
    "\n",
    "# New run\n",
    "\n",
    "height_m = meter(5, 0)  \n",
    "print(f\"Height in meters: {height_m:.2f} m\")\n",
    "\n",
    "height_ft, height_in = feet_inch(height_m)  # 5 feet 0 inches\n",
    "print(f\"Height in feet and inches: {height_ft} feet {height_in} inches\")"
   ]
  }
 ],
 "metadata": {
  "kernelspec": {
   "display_name": "Python 3 (ipykernel)",
   "language": "python",
   "name": "python3"
  },
  "language_info": {
   "codemirror_mode": {
    "name": "ipython",
    "version": 3
   },
   "file_extension": ".py",
   "mimetype": "text/x-python",
   "name": "python",
   "nbconvert_exporter": "python",
   "pygments_lexer": "ipython3",
   "version": "3.12.4"
  }
 },
 "nbformat": 4,
 "nbformat_minor": 4
}
